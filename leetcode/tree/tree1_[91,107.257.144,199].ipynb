{
 "cells": [
  {
   "cell_type": "code",
   "execution_count": 6,
   "metadata": {
    "collapsed": true
   },
   "outputs": [],
   "source": [
    "# leecode 91. Decode Ways\n",
    "# https://leetcode.com/problems/decode-ways/description/"
   ]
  },
  {
   "cell_type": "code",
   "execution_count": 13,
   "metadata": {},
   "outputs": [
    {
     "data": {
      "text/plain": [
       "2"
      ]
     },
     "execution_count": 13,
     "metadata": {},
     "output_type": "execute_result"
    }
   ],
   "source": [
    "def numDecodings(s):\n",
    "    \"\"\"\n",
    "    :type s: str\n",
    "    :rtype: int\n",
    "    \"\"\"\n",
    "    num1 = 0\n",
    "    num2 = 0\n",
    "    if s == '':\n",
    "        return 0\n",
    "    elif len(s) == 1:\n",
    "        num1 = int(s[0])\n",
    "        if num1 <= 9 and num1 > 0:\n",
    "            return 1\n",
    "        else:\n",
    "            return 0\n",
    "    else:\n",
    "        num1 = int(s[0])\n",
    "        num2 = int(s[1])\n",
    "        num = int(s[:2])\n",
    "        if num <= 26 and num > 0:\n",
    "            return 1 + numDecodings(s[1:]) + numDecodings(s[2:])\n",
    "        else:\n",
    "            return numDecodings(s[1:-1])\n",
    "\n",
    "numDecodings('12')"
   ]
  },
  {
   "cell_type": "code",
   "execution_count": 1,
   "metadata": {
    "collapsed": true
   },
   "outputs": [],
   "source": [
    "# Definition for a binary tree node.\n",
    "class TreeNode(object):\n",
    "     def __init__(self, x):\n",
    "        self.val = x\n",
    "        self.left = None\n",
    "        self.right = None\n",
    "\n",
    "class Solution(object):\n",
    "    def maxPathSum(self, root):\n",
    "        \"\"\"\n",
    "        :type root: TreeNode\n",
    "        :rtype: int\n",
    "        \"\"\"\n",
    "        def listPaths(root):\n",
    "            if root == None:\n",
    "                return None\n",
    "            ans = []\n",
    "            leftList = listPaths(root.left)\n",
    "            for i in leftList:\n",
    "                ans.append(i)\n",
    "            ans.append(root)\n",
    "            rightList = listPaths(root.right)\n",
    "            for i in rightList:\n",
    "                ans.append(i)\n",
    "            return ans"
   ]
  },
  {
   "cell_type": "markdown",
   "metadata": {},
   "source": [
    "\n",
    "#### 107. Binary Tree Level Order Traversal II\n",
    "https://leetcode.com/problems/binary-tree-level-order-traversal-ii/description/"
   ]
  },
  {
   "cell_type": "code",
   "execution_count": 2,
   "metadata": {
    "collapsed": true
   },
   "outputs": [],
   "source": [
    "# start_time 4.45pm 2017/10/26 \n",
    "# end_time 8.03pm same day\n",
    "# put them level by level in a list -> reverse the list\n",
    "# store the every nodes in a certain level by dic[certain level]\n",
    "# mark when come to a new level, put last level to the answer list.\n",
    "class TreeNode(object):\n",
    "    def __init__(self, x):\n",
    "        self.val = x\n",
    "        self.left = None\n",
    "        self.right = None\n",
    "\n",
    "class Solution(object):\n",
    "    def levelOrderBottom(self, root):\n",
    "        \"\"\"\n",
    "        :type root: TreeNode\n",
    "        :rtype: List[List[int]]\n",
    "        \"\"\"\n",
    "        if root == None:\n",
    "            return []\n",
    "        stack = []\n",
    "        queue = []\n",
    "        level_mark = {}\n",
    "        level_mark[root] = 0\n",
    "        queue.append(root)\n",
    "        cur_level = 0\n",
    "        cur_node = root\n",
    "        dic = {}\n",
    "        dic[0] = []\n",
    "        while len(queue) > 0:\n",
    "            cur_node = queue.pop(0)\n",
    "            if level_mark.has_key(cur_node) and level_mark[cur_node] > cur_level:\n",
    "                tmp = []\n",
    "                stack.append(dic[cur_level])\n",
    "                cur_level += 1\n",
    "                dic[cur_level] = tmp\n",
    "    \n",
    "            if cur_node is not None:\n",
    "                dic[cur_level].append(cur_node.val)\n",
    "                if cur_node.left is not None:\n",
    "                    queue.append(cur_node.left)\n",
    "                    level_mark[cur_node.left] = level_mark[cur_node] + 1\n",
    "                if cur_node.right is not None:\n",
    "                    queue.append(cur_node.right)\n",
    "                    level_mark[cur_node.right] = level_mark[cur_node] + 1\n",
    "        \n",
    "        stack.append(dic[cur_level])\n",
    "        stack.reverse()\n",
    "        return stack"
   ]
  },
  {
   "cell_type": "markdown",
   "metadata": {},
   "source": [
    "### 257. Binary Tree Paths\n",
    "[**leetcode 257**](https://leetcode.com/problems/binary-tree-paths/description/)"
   ]
  },
  {
   "cell_type": "code",
   "execution_count": 5,
   "metadata": {},
   "outputs": [
    {
     "name": "stdout",
     "output_type": "stream",
     "text": [
      "['20->30']\n"
     ]
    }
   ],
   "source": [
    "# start_time 8.08pm 2017/10/26\n",
    "# acceped in 8.58pm the same day\n",
    "# by bfs, every node holds a list, represents the path from \n",
    "# root to this root\n",
    "\n",
    "# Definition for a binary tree node.\n",
    "class TreeNode(object):\n",
    "    def __init__(self, x):\n",
    "        self.val = x\n",
    "        self.left = None\n",
    "        self.right = None\n",
    "\n",
    "class Solution(object):\n",
    "    def binaryTreePaths(self, root):\n",
    "        \"\"\"\n",
    "        :type root: TreeNode\n",
    "        :rtype: List[str]\n",
    "        \"\"\"\n",
    "        if root is None:\n",
    "            return []\n",
    "        que = []\n",
    "        que.append(root)\n",
    "        dic = {}\n",
    "        dic[root] = [root.val]\n",
    "        leaves = []\n",
    "        ans = []\n",
    "        while len(que) > 0:\n",
    "            cur = que.pop(0)\n",
    "            if cur.left is None and cur.right is None:\n",
    "                leaves.append(cur)\n",
    "                continue\n",
    "                \n",
    "            if cur.left is not None:\n",
    "                dic[cur.left] = [item for item in dic[cur]]\n",
    "                dic[cur.left].append(cur.left.val)\n",
    "                que.append(cur.left)\n",
    "                \n",
    "            if cur.right is not None:\n",
    "                dic[cur.right] = [item for item in dic[cur]]\n",
    "                dic[cur.right].append(cur.right.val)\n",
    "                que.append(cur.right)\n",
    "        \n",
    "        def make_string(node_list):\n",
    "            new_list = []\n",
    "            for i in node_list:\n",
    "                new_list.append(str(i))\n",
    "            return '->'.join(new_list)\n",
    "        \n",
    "        for node_list in leaves:\n",
    "            ans.append(make_string(dic[node_list]))\n",
    "            \n",
    "        return ans\n",
    "    \n",
    "test = Solution()\n",
    "root = TreeNode(20)\n",
    "root.left = TreeNode(30)\n",
    "print(test.binaryTreePaths(root))"
   ]
  },
  {
   "cell_type": "markdown",
   "metadata": {},
   "source": [
    "###  144. Binary Tree Preorder Traversal\n",
    "[**leetcode 144**](https://leetcode.com/problems/binary-tree-preorder-traversal/description/)\n",
    "**do it in a non-recursive way..**"
   ]
  },
  {
   "cell_type": "code",
   "execution_count": 6,
   "metadata": {
    "collapsed": true
   },
   "outputs": [],
   "source": [
    "# start_time 9.00pm  2017/10/26\n",
    "# end_time 9.18pm 2017/10/26\n",
    "# Definition for a binary tree node.\n",
    "# class TreeNode(object):\n",
    "#     def __init__(self, x):\n",
    "#         self.val = x\n",
    "#         self.left = None\n",
    "#         self.right = None\n",
    "\n",
    "class Solution(object):\n",
    "    def preorderTraversal(self, root):\n",
    "        \"\"\"\n",
    "        :type root: TreeNode\n",
    "        :rtype: List[int]\n",
    "        \"\"\"\n",
    "        if root is None:\n",
    "            return []\n",
    "        sta = []\n",
    "        ans = []\n",
    "        cur = root\n",
    "        while len(sta) > 0 or cur is not None:\n",
    "            ans.append(cur.val)\n",
    "            while cur is not None:\n",
    "                if cur.right is not None:\n",
    "                    sta.append(cur.right)\n",
    "                cur = cur.left\n",
    "                if cur is not None:\n",
    "                    ans.append(cur.val)\n",
    "            if len(sta) > 0:\n",
    "                cur = sta.pop()\n",
    "        return ans"
   ]
  },
  {
   "cell_type": "markdown",
   "metadata": {},
   "source": [
    "### 199. Binary Tree Right Side View\n",
    "[**leetcode 199**](https://leetcode.com/problems/binary-tree-right-side-view/description/)"
   ]
  },
  {
   "cell_type": "code",
   "execution_count": 11,
   "metadata": {},
   "outputs": [],
   "source": [
    "# 其实就是右视角图，第一次想错了！\n",
    "# Definition for a binary tree node.\n",
    "# class TreeNode(object):\n",
    "#     def __init__(self, x):\n",
    "#         self.val = x\n",
    "#         self.left = None\n",
    "#         self.right = None\n",
    "\n",
    "class Solution(object):\n",
    "    def rightSideView(self, root):\n",
    "        \"\"\"\n",
    "        :type root: TreeNode\n",
    "        :rtype: List[int]\n",
    "        \"\"\"\n",
    "        def is_leaf(root):\n",
    "            if root.left is None and root.right is None:\n",
    "                return True\n",
    "            else:\n",
    "                return False\n",
    "        if root is None:\n",
    "            return []\n",
    "        ans = []\n",
    "        cur = root\n",
    "        while cur is not None:\n",
    "            ans.append(cur.val)\n",
    "            if is_leaf(cur):\n",
    "                break\n",
    "            if cur.right is not None:\n",
    "                cur = cur.right\n",
    "            elif cur.left is not None:\n",
    "                cur = cur.left\n",
    "        return ans"
   ]
  },
  {
   "cell_type": "code",
   "execution_count": null,
   "metadata": {
    "collapsed": true
   },
   "outputs": [],
   "source": []
  }
 ],
 "metadata": {
  "kernelspec": {
   "display_name": "Python 2",
   "language": "python",
   "name": "python2"
  },
  "language_info": {
   "codemirror_mode": {
    "name": "ipython",
    "version": 3
   },
   "file_extension": ".py",
   "mimetype": "text/x-python",
   "name": "python",
   "nbconvert_exporter": "python",
   "pygments_lexer": "ipython3",
   "version": "3.5.2+"
  }
 },
 "nbformat": 4,
 "nbformat_minor": 2
}
