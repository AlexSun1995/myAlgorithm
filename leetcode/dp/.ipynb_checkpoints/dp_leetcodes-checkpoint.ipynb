{
 "cells": [
  {
   "cell_type": "code",
   "execution_count": 8,
   "metadata": {},
   "outputs": [
    {
     "name": "stdout",
     "output_type": "stream",
     "text": [
      "6\n"
     ]
    }
   ],
   "source": [
    "def uniquePaths(m, n):\n",
    "        \"\"\"\n",
    "        :type m: int\n",
    "        :type n: int\n",
    "        :rtype: int\n",
    "        \"\"\"\n",
    "        dp = [[None for i in range(n+1)] for j in range(m+1)]\n",
    "        for i in range(m+1):\n",
    "            dp[i][1] = 1\n",
    "        for i in range(n+1):\n",
    "            dp[1][i] = 1\n",
    "        for i in range(2, m+1):\n",
    "            for j in range(2, n+1):\n",
    "                dp[i][j] = dp[i-1][j] + dp[i][j-1]\n",
    "        return dp[m][n]\n",
    "\n",
    "print(uniquePaths(3,3))"
   ]
  },
  {
   "cell_type": "code",
   "execution_count": 34,
   "metadata": {
    "tags": [
     "https://leetcode.com/problems/unique-paths-ii/description/",
     "dp"
    ]
   },
   "outputs": [
    {
     "data": {
      "text/plain": [
       "1"
      ]
     },
     "execution_count": 34,
     "metadata": {},
     "output_type": "execute_result"
    }
   ],
   "source": [
    "def uniquePathsWithObstacles(obstacleGrid):\n",
    "    \"\"\"\n",
    "    :type obstacleGrid: List[List[int]]\n",
    "    :rtype: int\n",
    "    \"\"\"\n",
    "    m = len(obstacleGrid)\n",
    "    n = len(obstacleGrid[0])\n",
    "    dp = [[0 for i in range(n)] for j in range(m)]\n",
    "    flag = False\n",
    "    for i in range(m):\n",
    "        if not flag and obstacleGrid[i][0] == 1:\n",
    "            flag = True\n",
    "        if flag:\n",
    "            dp[i][0] = 0\n",
    "        else:\n",
    "            dp[i][0] = 1\n",
    "    flag = False\n",
    "    for i in range(n):\n",
    "        if not flag and obstacleGrid[0][i] == 1:\n",
    "            flag = True\n",
    "        if flag:\n",
    "            dp[0][i] = 0\n",
    "        else:\n",
    "            dp[0][i] = 1\n",
    "    for i in range(1, m):\n",
    "        for j in range(1,n):\n",
    "            if obstacleGrid[i][j] == 1:\n",
    "                dp[i][j] = 0\n",
    "            else:\n",
    "                dp[i][j] = dp[i-1][j] + dp[i][j-1]\n",
    "    return dp[m-1][n-1]\n",
    "    \n",
    "uniquePathsWithObstacles([[0,0]])\n",
    "# Accepted! 2017-08-21 10:51"
   ]
  },
  {
   "cell_type": "markdown",
   "metadata": {},
   "source": [
    "### [Minimum Path Sum](https://leetcode.com/problems/minimum-path-sum/description/)"
   ]
  },
  {
   "cell_type": "code",
   "execution_count": 26,
   "metadata": {},
   "outputs": [
    {
     "data": {
      "text/plain": [
       "3"
      ]
     },
     "execution_count": 26,
     "metadata": {},
     "output_type": "execute_result"
    }
   ],
   "source": [
    "def minPathSum(grid):\n",
    "    \"\"\"\n",
    "    :type grid: List[List[int]]\n",
    "    :rtype: int\n",
    "    \"\"\"\n",
    "    m = len(grid)\n",
    "    n = len(grid[0])\n",
    "    dp = [[0 for i in range(n)] for j in range(m)]\n",
    "    for i in range(m):\n",
    "        dp[i][0] = sum(grid[j][0] for j in range(0,i+1))\n",
    "    for i in range(n):\n",
    "        dp[0][i] = sum(grid[0][:i+1])\n",
    "    for i in range(1,m):\n",
    "        for j in range(1,n):\n",
    "            dp[i][j] = min(dp[i-1][j] + grid[i][j], dp[i][j-1] + grid[i][j])\n",
    "    return dp[m-1][n-1]\n",
    "\n",
    "minPathSum([[1,2],[1,1]])\n",
    "# Accepted! on 5:33 PM 2017-8-22 cst.zju"
   ]
  },
  {
   "cell_type": "code",
   "execution_count": 1,
   "metadata": {},
   "outputs": [
    {
     "ename": "SyntaxError",
     "evalue": "invalid syntax (<ipython-input-1-1f098f682175>, line 2)",
     "output_type": "error",
     "traceback": [
      "\u001b[0;36m  File \u001b[0;32m\"<ipython-input-1-1f098f682175>\"\u001b[0;36m, line \u001b[0;32m2\u001b[0m\n\u001b[0;31m    b = if a ==0: 1 else : 2\u001b[0m\n\u001b[0m         ^\u001b[0m\n\u001b[0;31mSyntaxError\u001b[0m\u001b[0;31m:\u001b[0m invalid syntax\n"
     ]
    }
   ],
   "source": [
    "a = 0\n",
    "b = if a ==0: 1 else : 2"
   ]
  },
  {
   "cell_type": "code",
   "execution_count": 12,
   "metadata": {},
   "outputs": [
    {
     "name": "stdout",
     "output_type": "stream",
     "text": [
      "hello world\n",
      "[[0, 1, 2, 3, 4, 5], [1, 1, 2, 3, 4, 5], [2, 2, 2, 3, 4, 5], [3, 3, 3, 3, 3, 4], [4, 4, 4, 4, 3, 4], [5, 5, 4, 5, 4, 4]]\n",
      "google good\n",
      "[[0, 1, 2, 3, 4], [1, 0, 1, 2, 3], [2, 1, 0, 1, 2], [3, 2, 1, 0, 1], [4, 3, 2, 1, 1], [5, 4, 3, 2, 2], [6, 5, 4, 3, 3]]\n",
      "mmmm m\n",
      "[[0, 1], [1, 0], [2, 1], [3, 2], [4, 3]]\n"
     ]
    },
    {
     "data": {
      "text/plain": [
       "3"
      ]
     },
     "execution_count": 12,
     "metadata": {},
     "output_type": "execute_result"
    }
   ],
   "source": [
    "# Edit Distance\n",
    "# this is also a problem in Information Retrieval page 41.\n",
    "def minDistance(word1, word2):\n",
    "    \"\"\"\n",
    "    :type word1: str\n",
    "    :type word2: str\n",
    "    :rtype: int\n",
    "    \"\"\"\n",
    "    len1 = len(word1) + 1\n",
    "    len2 = len(word2) + 1\n",
    "    dp = [[0 for i in range(len2)] for j in range(len1)]\n",
    "    for i in range(len1):\n",
    "        dp[i][0] = i\n",
    "    for i in range(len2):\n",
    "        dp[0][i] = i\n",
    "    for i in range(1, len1):\n",
    "        for j in range(1, len2):\n",
    "            dp[i][j] = min(dp[i-1][j]+1, dp[i][j-1] + 1,dp[i-1][j-1] if \n",
    "                           word1[i-1]==word2[j-1] else dp[i-1][j-1] + 1)\n",
    "            \n",
    "    print(word1, word2)\n",
    "    print(dp)\n",
    "    return dp[len1-1][len2-1]\n",
    "\n",
    "minDistance(\"hello\",\"world\") \n",
    "# 4\n",
    "minDistance(\"google\",\"good\")\n",
    "# 3\n",
    "minDistance('mmmm','m')\n",
    "# 3"
   ]
  },
  {
   "cell_type": "code",
   "execution_count": 13,
   "metadata": {},
   "outputs": [
    {
     "data": {
      "text/plain": [
       "5"
      ]
     },
     "execution_count": 13,
     "metadata": {},
     "output_type": "execute_result"
    }
   ],
   "source": [
    "\n",
    "# Unique Binary Search Trees\n",
    "# Given n, how many structurally unique BST's (binary search trees) \n",
    "# that store values 1...n?\n",
    "# For example,\n",
    "# Given n = 3, there are a total of 5 unique BST's.\n",
    "def numTrees(n):\n",
    "    \"\"\"\n",
    "    :type n: int\n",
    "    :rtype: int\n",
    "    \"\"\"\n",
    "    dp = [0 for i in range(n+1)]\n",
    "    dp[0] = dp[1] = 1\n",
    "    for i in range(2, n+1):\n",
    "        for j in range(1, i+1):\n",
    "            dp[i] += dp[j-1] * dp[i-j]\n",
    "    return dp[n]\n",
    "numTrees(3)\n",
    "# https://leetcode.com/problems/unique-binary-search-trees/discuss/\n",
    "# Excellent Solution"
   ]
  },
  {
   "cell_type": "code",
   "execution_count": 14,
   "metadata": {
    "collapsed": true
   },
   "outputs": [],
   "source": [
    "def generateTrees(n):\n",
    "    \"\"\"\n",
    "    :type n: int\n",
    "    :rtype: List[TreeNode]\n",
    "    \"\"\"\n",
    "    "
   ]
  },
  {
   "cell_type": "markdown",
   "metadata": {},
   "source": [
    "### [Triangle](https://leetcode.com/problems/triangle/description/)\n",
    "#### 思路\n",
    "把参数triangle修改为，trianle(i,j) 表示i,j位置上自root而下到达当前位置的最短路径值\n",
    "用一个dp数组保存每一层的最短路径值，最后返回dp[rows - 1]"
   ]
  },
  {
   "cell_type": "code",
   "execution_count": 19,
   "metadata": {},
   "outputs": [
    {
     "data": {
      "text/plain": [
       "11"
      ]
     },
     "execution_count": 19,
     "metadata": {},
     "output_type": "execute_result"
    }
   ],
   "source": [
    "# [\n",
    "#     [2],\n",
    "#    [3,4],\n",
    "#   [6,5,7],\n",
    "#  [4,1,8,3]\n",
    "#]\n",
    "# Accepted on 10:34AM  Aug 25th 2017\n",
    "# \n",
    "def minimumTotal(triangle):\n",
    "    \"\"\"\n",
    "    :type triangle: List[List[int]]\n",
    "    :rtype: int\n",
    "    \"\"\"\n",
    "    rows = len(triangle)\n",
    "    dp = [0 for i in range(rows)]\n",
    "    dp[0] = triangle[0][0]\n",
    "    for i in range(1, rows):\n",
    "        row_min = 10000000\n",
    "        for j in range(0, len(triangle[i])):\n",
    "            if j == 0:\n",
    "                triangle[i][j] += triangle[i-1][0]\n",
    "            elif j == len(triangle[i]) -1 :\n",
    "                triangle[i][j] += triangle[i-1][j-1]\n",
    "            else:\n",
    "                triangle[i][j] += min(triangle[i-1][j-1],\n",
    "                                     triangle[i-1][j])\n",
    "            if triangle[i][j] < row_min:\n",
    "                row_min = triangle[i][j]\n",
    "                dp[i] = triangle[i][j]\n",
    "    return dp[rows-1]\n",
    "\n",
    "minimumTotal([\n",
    "     [2],\n",
    "    [3,4],\n",
    "   [6,5,7],\n",
    "  [4,1,8,3]\n",
    "])"
   ]
  },
  {
   "cell_type": "code",
   "execution_count": 20,
   "metadata": {
    "collapsed": true
   },
   "outputs": [],
   "source": [
    "def numDistinct(self, s, t):\n",
    "    \"\"\"\n",
    "    :type s: str\n",
    "    :type t: str\n",
    "    :rtype: int\n",
    "    \"\"\""
   ]
  },
  {
   "cell_type": "code",
   "execution_count": 12,
   "metadata": {},
   "outputs": [
    {
     "data": {
      "text/plain": [
       "4"
      ]
     },
     "execution_count": 12,
     "metadata": {},
     "output_type": "execute_result"
    }
   ],
   "source": [
    "# you made a mistake!!\n",
    "# incorrect!\n",
    "class Node(object):\n",
    "    def __init__(self, row_sum, col_sum):\n",
    "        self.row_sum = row_sum\n",
    "        self.col_sum = col_sum\n",
    "        self.mul = row_sum * col_sum\n",
    "\n",
    "def maximalRectangle(matrix):\n",
    "    \"\"\"\n",
    "    :type matrix: List[List[str]]\n",
    "    :rtype: int\n",
    "    \"\"\"\n",
    "    m = len(matrix)\n",
    "    n = len(matrix[0])\n",
    "    dp = [[None for i in range(n)] for j in range(m)]\n",
    "    max_ans = -1\n",
    "    for i in range(m):\n",
    "        for j in range(n):\n",
    "            if i == 0 and j != 0:\n",
    "                if matrix[i][j] == '1':\n",
    "                    dp[i][j] = Node(dp[i][j-1].row_sum + 1, 1)\n",
    "                else:\n",
    "                    dp[i][j] = Node(0, 0)\n",
    "            elif i!=0 and j == 0:\n",
    "                if matrix[i][j] == '1':\n",
    "                    dp[i][j] = Node(1, dp[i-1][j].col_sum + 1)\n",
    "                else:\n",
    "                    dp[i][j] = Node(0,0)\n",
    "            elif i == 0 and j == 0:\n",
    "                if matrix[0][0] == '1':\n",
    "                    dp[0][0] = Node(1,1)\n",
    "                else:\n",
    "                    dp[0][0] = Node(0,0)\n",
    "            else:\n",
    "                if matrix[i][j] == '1':\n",
    "                    dp[i][j] = Node(min(dp[i][j-1].row_sum + 1,dp[i-1][j].row_sum+1), \n",
    "                                    min(dp[i-1][j].col_sum + 1, dp[i][j-1].col_sum+1))\n",
    "                else:\n",
    "                    dp[i][j] = Node(0,0)\n",
    "            if dp[i][j].mul > max_ans:\n",
    "                max_ans = dp[i][j].mul\n",
    "    return max_ans\n",
    "\n",
    "maximalRectangle([['1', '0', '1', '0', '0'],\n",
    "                 ['1', '0', '1', '1', '1'],\n",
    "                 ['1', '1', '1', '1', '1'],\n",
    "                 ['1', '0', '0', '1', '0']])"
   ]
  },
  {
   "cell_type": "code",
   "execution_count": null,
   "metadata": {},
   "outputs": [],
   "source": []
  },
  {
   "cell_type": "code",
   "execution_count": null,
   "metadata": {
    "collapsed": true
   },
   "outputs": [],
   "source": []
  }
 ],
 "metadata": {
  "celltoolbar": "Tags",
  "kernelspec": {
   "display_name": "Python 2",
   "language": "python",
   "name": "python2"
  },
  "language_info": {
   "codemirror_mode": {
    "name": "ipython",
    "version": 3
   },
   "file_extension": ".py",
   "mimetype": "text/x-python",
   "name": "python",
   "nbconvert_exporter": "python",
   "pygments_lexer": "ipython3",
   "version": "3.5.2+"
  }
 },
 "nbformat": 4,
 "nbformat_minor": 2
}
